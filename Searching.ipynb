{
 "cells": [
  {
   "cell_type": "code",
   "execution_count": 1,
   "metadata": {
    "collapsed": true
   },
   "outputs": [],
   "source": [
    "import PIL # How we will draw pictures\n",
    "from PIL import Image"
   ]
  },
  {
   "cell_type": "code",
   "execution_count": 2,
   "metadata": {
    "collapsed": false
   },
   "outputs": [],
   "source": [
    "class OutOfBounds(Exception):\n",
    "    '''Used when we try to move the blank square out of bounds.'''\n",
    "    pass"
   ]
  },
  {
   "cell_type": "code",
   "execution_count": 3,
   "metadata": {
    "collapsed": true
   },
   "outputs": [],
   "source": [
    "board = [[0, 1, 2],\n",
    "         [3, 4, 5],\n",
    "         [6, 7, 8]]\n",
    "size = 4\n",
    "special = size**2 - 1\n",
    "board = [[i + 4*j for i in range(size)] for j in range(size)]\n",
    "# We won't use OOP for now to keep things simple"
   ]
  },
  {
   "cell_type": "code",
   "execution_count": 4,
   "metadata": {
    "collapsed": false
   },
   "outputs": [],
   "source": [
    "def find(board):\n",
    "    for i, row in enumerate(board):\n",
    "        for j, cell in enumerate(row):\n",
    "            if cell == special:\n",
    "                return (i, j)"
   ]
  },
  {
   "cell_type": "code",
   "execution_count": 5,
   "metadata": {
    "collapsed": false
   },
   "outputs": [],
   "source": [
    "directions = {'up': (-1, 0),\n",
    "              'down': (1, 0),\n",
    "              'left': (0, -1),\n",
    "              'right': (0, 1)}\n",
    "def move(board, direction):\n",
    "    ''' Move the blank space up.'''\n",
    "    (x, y) = find(board)\n",
    "    if any([direction == 'up' and x == 0,\n",
    "           direction == 'left' and y == 0,\n",
    "           direction == 'down' and x == size-1,\n",
    "           direction == 'right' and y == size-1]):\n",
    "        raise OutOfBounds()\n",
    "    else:\n",
    "        new_board = []\n",
    "        (x_offset, y_offset) = directions[direction]\n",
    "        for i in range(size):\n",
    "            row = []\n",
    "            for j in range(size):\n",
    "                if (i, j) == (x, y): # Blank space\n",
    "                    row.append(board[x+x_offset][y+y_offset])\n",
    "                elif (i, j) == (x + x_offset, y + y_offset): # Moving tile\n",
    "                    row.append(board[x][y])\n",
    "                else:\n",
    "                    row.append(board[i][j])\n",
    "            new_board.append(row)\n",
    "        return new_board\n",
    "def up(board):\n",
    "    return move(board, 'up')\n",
    "def left(board):\n",
    "    return move(board, 'left')\n",
    "def right(board):\n",
    "    return move(board, 'right')\n",
    "def down(board):\n",
    "    return move(board, 'down')"
   ]
  },
  {
   "cell_type": "code",
   "execution_count": 6,
   "metadata": {
    "collapsed": false
   },
   "outputs": [],
   "source": [
    "picture = Image.open('willie.jpg')\n",
    "picture.show()"
   ]
  },
  {
   "cell_type": "code",
   "execution_count": 7,
   "metadata": {
    "collapsed": false
   },
   "outputs": [],
   "source": [
    "# Find pixel width of each box\n",
    "width, height = picture.size\n",
    "subwidth = width // size\n",
    "subheight = height // size"
   ]
  },
  {
   "cell_type": "code",
   "execution_count": 8,
   "metadata": {
    "collapsed": false
   },
   "outputs": [],
   "source": [
    "# Chop up the image into 9 pieces\n",
    "\n",
    "subpictures = []\n",
    "for j in range(size):\n",
    "    row = []\n",
    "    for i in range(size):\n",
    "        cell = picture.crop( (i*subwidth, j * subheight,(i+1)*subwidth, (j+1)*subheight) )\n",
    "        row.append(cell)\n",
    "    subpictures.append(row)"
   ]
  },
  {
   "cell_type": "code",
   "execution_count": 9,
   "metadata": {
    "collapsed": false
   },
   "outputs": [],
   "source": [
    "# for row in subpictures:\n",
    "#     for cell in row:\n",
    "#         cell.show()"
   ]
  },
  {
   "cell_type": "code",
   "execution_count": 9,
   "metadata": {
    "collapsed": true
   },
   "outputs": [],
   "source": [
    "def showBoard(board, pictures, subwidth, subheight):\n",
    "    newpicture = Image.new('RGBA', (subwidth*size, subheight*size))\n",
    "    x, y = find(board)\n",
    "    for i in range(size):\n",
    "        for j in range(size):\n",
    "            if (i, j) == (x, y): # Blank Square\n",
    "                pass\n",
    "            else: # Show square\n",
    "                row = board[i][j] // size\n",
    "                column = board[i][j] % size\n",
    "                newpicture.paste(pictures[row][column], (subwidth*j, subheight*i))\n",
    "    newpicture.show()"
   ]
  },
  {
   "cell_type": "code",
   "execution_count": 11,
   "metadata": {
    "collapsed": false
   },
   "outputs": [],
   "source": [
    "# new_board = left(up(left(up(board))))\n",
    "# showBoard(new_board, subpictures, subwidth, subheight)"
   ]
  },
  {
   "cell_type": "code",
   "execution_count": 10,
   "metadata": {
    "collapsed": false
   },
   "outputs": [],
   "source": [
    "from random import randint\n",
    "from time import sleep\n",
    "def search(board):\n",
    "    steps = []\n",
    "    while True:\n",
    "#         showBoard(board, subpictures, subwidth, subheight)\n",
    "#         sleep(1)\n",
    "        rand = randint(0, 4)\n",
    "        if board == [[0, 1, 2], [3, 4, 5], [6, 7, 8]]:\n",
    "            return ''.join(steps)\n",
    "        try:\n",
    "            if rand == 0:\n",
    "                board = up(board)\n",
    "                steps.append('u')\n",
    "            elif rand == 1:\n",
    "                board = left(board)\n",
    "                steps.append('l')\n",
    "            elif rand == 2:\n",
    "                board = right(board)\n",
    "                steps.append('r')\n",
    "            elif rand == 3:\n",
    "                board = down(board)\n",
    "                steps.append('d')\n",
    "        except OutOfBounds:\n",
    "            pass"
   ]
  },
  {
   "cell_type": "code",
   "execution_count": 11,
   "metadata": {
    "collapsed": false
   },
   "outputs": [],
   "source": [
    "board2 = board\n",
    "for i in range(20):\n",
    "    rand = randint(0, 4)\n",
    "    try:\n",
    "        if rand == 0:\n",
    "            board2 = up(board2)\n",
    "        elif rand == 1:\n",
    "            board2 = left(board2)\n",
    "        elif rand == 2:\n",
    "            board2 = right(board2)\n",
    "        elif rand == 3:\n",
    "            board2 = down(board2)\n",
    "    except OutOfBounds:\n",
    "        pass\n",
    "showBoard(board2, subpictures, subwidth, subheight)\n",
    "# search(board2)"
   ]
  },
  {
   "cell_type": "code",
   "execution_count": 12,
   "metadata": {
    "collapsed": true
   },
   "outputs": [],
   "source": [
    "def freeze(xs):\n",
    "    return tuple(tuple(x) for x in xs)"
   ]
  },
  {
   "cell_type": "code",
   "execution_count": 13,
   "metadata": {
    "collapsed": false
   },
   "outputs": [],
   "source": [
    "def bfs(start):\n",
    "    queue = [start]\n",
    "    path = {freeze(start): ''}\n",
    "    \n",
    "    while len(queue) > 0:\n",
    "        current = queue[0]\n",
    "        queue = queue[1:]\n",
    "        \n",
    "        if current == board:\n",
    "            return path[freeze(current)]\n",
    "        for direc in ['l', 'u', 'r', 'd']:\n",
    "            try:\n",
    "                if direc == 'u':\n",
    "                    node = up(current)\n",
    "                elif direc == 'd':\n",
    "                    node = down(current)\n",
    "                elif direc == 'l':\n",
    "                    node = left(current)\n",
    "                elif direc == 'r':\n",
    "                    node = right(current)\n",
    "                queue.append(node)\n",
    "                newpath = path[freeze(current)] + direc\n",
    "                if freeze(node) not in path:\n",
    "                    path[freeze(node)] = newpath\n",
    "            except OutOfBounds:\n",
    "                pass"
   ]
  },
  {
   "cell_type": "code",
   "execution_count": 30,
   "metadata": {
    "collapsed": false
   },
   "outputs": [],
   "source": [
    "def make_board(steps):\n",
    "    board2 = board\n",
    "    for i in range(steps):\n",
    "        rand = randint(0, 4)\n",
    "        try:\n",
    "            if rand == 0:\n",
    "                board2 = up(board2)\n",
    "            elif rand == 1:\n",
    "                board2 = left(board2)\n",
    "            elif rand == 2:\n",
    "                board2 = right(board2)\n",
    "            elif rand == 3:\n",
    "                board2 = down(board2)\n",
    "        except OutOfBounds:\n",
    "            pass\n",
    "    return board\n",
    "showBoard(board2, subpictures, subwidth, subheight)\n",
    "#bfs(board2)"
   ]
  },
  {
   "cell_type": "code",
   "execution_count": 17,
   "metadata": {
    "collapsed": false
   },
   "outputs": [],
   "source": [
    "showBoard(down(left(down(right(up(left(down(up(left(up(board)))))))))), subpictures, subwidth, subheight)"
   ]
  },
  {
   "cell_type": "code",
   "execution_count": 15,
   "metadata": {
    "collapsed": true
   },
   "outputs": [],
   "source": [
    "def bfs_better(start):\n",
    "    queue = [start]\n",
    "    path = {freeze(start): ''}\n",
    "    \n",
    "    while len(queue) > 0:\n",
    "        current = queue[0]\n",
    "        queue = queue[1:]\n",
    "        \n",
    "        if current == board:\n",
    "            return path[freeze(current)]\n",
    "        for direc in ['l', 'u', 'r', 'd']:\n",
    "            try:\n",
    "                if direc == 'u':\n",
    "                    node = up(current)\n",
    "                elif direc == 'd':\n",
    "                    node = down(current)\n",
    "                elif direc == 'l':\n",
    "                    node = left(current)\n",
    "                elif direc == 'r':\n",
    "                    node = right(current)\n",
    "                if freeze(node) not in path:\n",
    "                    queue.append(node)\n",
    "                    newpath = path[freeze(current)] + direc\n",
    "                    path[freeze(node)] = newpath\n",
    "            except OutOfBounds:\n",
    "                pass"
   ]
  },
  {
   "cell_type": "code",
   "execution_count": 16,
   "metadata": {
    "collapsed": false
   },
   "outputs": [
    {
     "data": {
      "text/plain": [
       "'uldrrd'"
      ]
     },
     "execution_count": 16,
     "metadata": {},
     "output_type": "execute_result"
    }
   ],
   "source": [
    "bfs_better(board2)"
   ]
  },
  {
   "cell_type": "code",
   "execution_count": 17,
   "metadata": {
    "collapsed": false
   },
   "outputs": [],
   "source": [
    "from collections import deque"
   ]
  },
  {
   "cell_type": "code",
   "execution_count": 18,
   "metadata": {
    "collapsed": true
   },
   "outputs": [],
   "source": [
    "def bfs_more_better(start):\n",
    "    queue = deque([start])\n",
    "    path = {freeze(start): ''}\n",
    "    \n",
    "    while len(queue) > 0:\n",
    "        current = queue.popleft()\n",
    "        \n",
    "        if current == board:\n",
    "            return path[freeze(current)]\n",
    "        for direc in ['l', 'u', 'r', 'd']:\n",
    "            try:\n",
    "                if direc == 'u':\n",
    "                    node = up(current)\n",
    "                elif direc == 'd':\n",
    "                    node = down(current)\n",
    "                elif direc == 'l':\n",
    "                    node = left(current)\n",
    "                elif direc == 'r':\n",
    "                    node = right(current)\n",
    "                if freeze(node) not in path:\n",
    "                    queue.append(node)\n",
    "                    newpath = path[freeze(current)] + direc\n",
    "                    path[freeze(node)] = newpath\n",
    "            except OutOfBounds:\n",
    "                pass"
   ]
  },
  {
   "cell_type": "code",
   "execution_count": null,
   "metadata": {
    "collapsed": false
   },
   "outputs": [],
   "source": [
    "board2"
   ]
  },
  {
   "cell_type": "code",
   "execution_count": 21,
   "metadata": {
    "collapsed": true
   },
   "outputs": [],
   "source": [
    "tough = [[1, 2, 7, 3], [0, 5, 6, 11], [4, 15, 9, 10], [8, 12, 14, 13]]"
   ]
  },
  {
   "cell_type": "code",
   "execution_count": 19,
   "metadata": {
    "collapsed": true
   },
   "outputs": [],
   "source": [
    "def bfs_double_end(start):\n",
    "    queue_forward = deque([start])\n",
    "    path_forward = {freeze(start): ''}\n",
    "    \n",
    "    \n",
    "    queue_backward = deque([board])\n",
    "    path_backward = {freeze(board): ''}\n",
    "    \n",
    "    while len(queue_forward) > 0:\n",
    "        current = queue_forward.popleft()\n",
    "        current_frozen = freeze(current)\n",
    "        current_backward = queue_backward.popleft()\n",
    "        current_backward_f = freeze(current_backward)\n",
    "        \n",
    "        if current_frozen in path_backward:\n",
    "            return path_forward[current_frozen] + path_backward[current_frozen]\n",
    "        for direc in ['l', 'u', 'r', 'd']:\n",
    "            try:\n",
    "                if direc == 'u':\n",
    "                    node = up(current)\n",
    "                elif direc == 'd':\n",
    "                    node = down(current)\n",
    "                elif direc == 'l':\n",
    "                    node = left(current)\n",
    "                elif direc == 'r':\n",
    "                    node = right(current)\n",
    "                node_frozen = freeze(node)\n",
    "                if node_frozen not in path_forward:\n",
    "                    queue_forward.append(node)\n",
    "                    newpath = path_forward[current_frozen] + direc\n",
    "                    path_forward[node_frozen] = newpath\n",
    "            except OutOfBounds:\n",
    "                pass\n",
    "            # Expand the reverse direction\n",
    "            try:\n",
    "                # These have been reversed so that the combination at the end works.\n",
    "                if direc == 'd':\n",
    "                    node = up(current_backward)\n",
    "                elif direc == 'u':\n",
    "                    node = down(current_backward)\n",
    "                elif direc == 'r':\n",
    "                    node = left(current_backward)\n",
    "                elif direc == 'l':\n",
    "                    node = right(current_backward)\n",
    "                node_frozen = freeze(node)\n",
    "                if node_frozen not in path_backward:\n",
    "                    queue_backward.append(node)\n",
    "                    # I append to the front to keep this meaning\n",
    "                    # The shortest path from here to the end.\n",
    "                    newpath = direc + path_backward[current_backward_f]\n",
    "                    path_backward[node_frozen] = newpath\n",
    "            except OutOfBounds:\n",
    "                pass"
   ]
  },
  {
   "cell_type": "code",
   "execution_count": 25,
   "metadata": {
    "collapsed": true
   },
   "outputs": [],
   "source": [
    "def evaluate(current, instructions):\n",
    "    for i in instructions:\n",
    "        if i == 'u':\n",
    "            current = up(current)\n",
    "        elif i == 'd':\n",
    "            current = down(current)\n",
    "        elif i == 'l':\n",
    "            current = left(current)\n",
    "        elif i == 'r':\n",
    "            current = right(current)\n",
    "    return current"
   ]
  },
  {
   "cell_type": "code",
   "execution_count": 26,
   "metadata": {
    "collapsed": true
   },
   "outputs": [],
   "source": [
    "showBoard(board2, subpictures, subwidth, subheight)"
   ]
  },
  {
   "cell_type": "code",
   "execution_count": 29,
   "metadata": {
    "collapsed": false
   },
   "outputs": [
    {
     "ename": "NameError",
     "evalue": "name 'boards' is not defined",
     "output_type": "error",
     "traceback": [
      "\u001b[0;31m---------------------------------------------------------------------------\u001b[0m",
      "\u001b[0;31mNameError\u001b[0m                                 Traceback (most recent call last)",
      "\u001b[0;32m<ipython-input-29-610e1f88029f>\u001b[0m in \u001b[0;36m<module>\u001b[0;34m()\u001b[0m\n\u001b[0;32m----> 1\u001b[0;31m \u001b[0mboard3\u001b[0m \u001b[1;33m=\u001b[0m \u001b[0mmake_board\u001b[0m\u001b[1;33m(\u001b[0m\u001b[1;36m100\u001b[0m\u001b[1;33m)\u001b[0m\u001b[1;33m\u001b[0m\u001b[0m\n\u001b[0m",
      "\u001b[0;32m<ipython-input-14-42bf33033df6>\u001b[0m in \u001b[0;36mmake_board\u001b[0;34m(steps)\u001b[0m\n\u001b[1;32m     14\u001b[0m         \u001b[1;32mexcept\u001b[0m \u001b[0mOutOfBounds\u001b[0m\u001b[1;33m:\u001b[0m\u001b[1;33m\u001b[0m\u001b[0m\n\u001b[1;32m     15\u001b[0m             \u001b[1;32mpass\u001b[0m\u001b[1;33m\u001b[0m\u001b[0m\n\u001b[0;32m---> 16\u001b[0;31m     \u001b[1;32mreturn\u001b[0m \u001b[0mboards\u001b[0m\u001b[1;33m\u001b[0m\u001b[0m\n\u001b[0m\u001b[1;32m     17\u001b[0m \u001b[0mshowBoard\u001b[0m\u001b[1;33m(\u001b[0m\u001b[0mboard2\u001b[0m\u001b[1;33m,\u001b[0m \u001b[0msubpictures\u001b[0m\u001b[1;33m,\u001b[0m \u001b[0msubwidth\u001b[0m\u001b[1;33m,\u001b[0m \u001b[0msubheight\u001b[0m\u001b[1;33m)\u001b[0m\u001b[1;33m\u001b[0m\u001b[0m\n\u001b[1;32m     18\u001b[0m \u001b[1;31m#bfs(board2)\u001b[0m\u001b[1;33m\u001b[0m\u001b[1;33m\u001b[0m\u001b[0m\n",
      "\u001b[0;31mNameError\u001b[0m: name 'boards' is not defined"
     ]
    }
   ],
   "source": [
    "board3 = make_board(100)"
   ]
  },
  {
   "cell_type": "code",
   "execution_count": 27,
   "metadata": {
    "collapsed": false
   },
   "outputs": [
    {
     "data": {
      "text/plain": [
       "'uldrrd'"
      ]
     },
     "execution_count": 27,
     "metadata": {},
     "output_type": "execute_result"
    }
   ],
   "source": [
    "bfs_more_better(board2)"
   ]
  },
  {
   "cell_type": "code",
   "execution_count": 23,
   "metadata": {
    "collapsed": false
   },
   "outputs": [
    {
     "data": {
      "text/plain": [
       "'uldrrd'"
      ]
     },
     "execution_count": 23,
     "metadata": {},
     "output_type": "execute_result"
    }
   ],
   "source": [
    "bfs_double_end(board2)\n",
    "# evaluate(bfs_double_end, bfs_double_end(bfs_double_end))"
   ]
  },
  {
   "cell_type": "code",
   "execution_count": 24,
   "metadata": {
    "collapsed": false
   },
   "outputs": [
    {
     "ename": "NameError",
     "evalue": "name 'tough' is not defined",
     "output_type": "error",
     "traceback": [
      "\u001b[0;31m---------------------------------------------------------------------------\u001b[0m",
      "\u001b[0;31mNameError\u001b[0m                                 Traceback (most recent call last)",
      "\u001b[0;32m<ipython-input-24-e9a6ce740356>\u001b[0m in \u001b[0;36m<module>\u001b[0;34m()\u001b[0m\n\u001b[0;32m----> 1\u001b[0;31m \u001b[0mbfs_more_better\u001b[0m\u001b[1;33m(\u001b[0m\u001b[0mtough\u001b[0m\u001b[1;33m)\u001b[0m\u001b[1;33m\u001b[0m\u001b[0m\n\u001b[0m",
      "\u001b[0;31mNameError\u001b[0m: name 'tough' is not defined"
     ]
    }
   ],
   "source": [
    "bfs_more_better(tough)"
   ]
  }
 ],
 "metadata": {
  "kernelspec": {
   "display_name": "Python 3",
   "language": "python",
   "name": "python3"
  },
  "language_info": {
   "codemirror_mode": {
    "name": "ipython",
    "version": 3
   },
   "file_extension": ".py",
   "mimetype": "text/x-python",
   "name": "python",
   "nbconvert_exporter": "python",
   "pygments_lexer": "ipython3",
   "version": "3.6.2"
  }
 },
 "nbformat": 4,
 "nbformat_minor": 2
}
